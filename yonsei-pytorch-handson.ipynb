{
  "nbformat": 4,
  "nbformat_minor": 0,
  "metadata": {
    "0": [
      "org"
    ],
    "1": null,
    "2": null,
    "colab": {
      "name": "yonsei-pytorch-handson.ipynb",
      "provenance": []
    }
  },
  "cells": [
    {
      "cell_type": "markdown",
      "metadata": {
        "id": "-S-vbuys2v5Y"
      },
      "source": [
        "## Pytorch Hands-on\n",
        "\n"
      ]
    },
    {
      "cell_type": "markdown",
      "metadata": {
        "id": "JzQQ58Zn2v5Z"
      },
      "source": [
        "### Goals\n",
        "\n"
      ]
    },
    {
      "cell_type": "markdown",
      "metadata": {
        "id": "52-2O1en2v5b"
      },
      "source": [
        "-   If you're already a deep learning master, not the talk for you!\n",
        "-   Get up and running quickly with Deep Learning\n",
        "    -   In particular, the goal is to build neural networks you can take home today!\n",
        "-   Therefore, use *PyTorch* to get up and running quickly\n",
        "-   Outline of the session:\n",
        "    -   Basic Usage of PyTorch (Iris)\n",
        "    -   Convolutional Neural Net in PyTorch (MNIST)\n",
        "    -   GANs (using MNIST)\n",
        "-   For this lecture, I recommend using *google colaboratory*\n",
        "    -   Machine learning education and research tool setup by google, all\n",
        "        the packages are installed, just need a google account to sign in\n",
        "\n",
        "[https://colab.research.google.com](https://colab.research.google.com)\n",
        "\n"
      ]
    },
    {
      "cell_type": "markdown",
      "metadata": {
        "id": "143syz0e2v5d"
      },
      "source": [
        "### Dependencies\n",
        "\n"
      ]
    },
    {
      "cell_type": "markdown",
      "metadata": {
        "id": "Y8tP06UB2v5e"
      },
      "source": [
        "*However,*\n",
        "\n",
        "If you want to follow along with a local setup:\n",
        "\n",
        "With python and pip installed, you can pull the dependencies by pip\n",
        "installing (you might need to add \\`&#x2013;user\\` to the end of the command\n",
        "lines):\n",
        "\n"
      ]
    },
    {
      "cell_type": "code",
      "metadata": {
        "id": "2tKsgdOB2v5f"
      },
      "source": [
        "# Optional, setup a separate virtualenv to keep everything clean\n",
        "virtualenv ENV\n",
        "source ENV/bin/activate\n",
        "# Download dependencies\n",
        "pip install matplotlib seaborn jupyter\n",
        "# Download the CPU version of pytorch\n",
        "pip install torch==1.6.0+cpu torchvision==0.7.0+cpu -f https://download.pytorch.org/whl/torch_stable.html\n",
        "# Then you could start a notebook\n",
        "jupyter notebook"
      ],
      "execution_count": null,
      "outputs": []
    },
    {
      "cell_type": "markdown",
      "metadata": {
        "id": "X_lpm_KH2v5k"
      },
      "source": [
        "For a GPU-capable version of pytorch (CUDA, which means you need an\n",
        "nVidia card), check\n",
        "\n",
        "[https://pytorch.org/get-started/locally/](https://pytorch.org/get-started/locally/)\n",
        "\n",
        "Now, let's setup a new workspace\n",
        "\n"
      ]
    },
    {
      "cell_type": "markdown",
      "metadata": {
        "id": "Uydb10Mv2v5l"
      },
      "source": [
        "### Google Colab / Jupyter Basic Usage\n",
        "\n"
      ]
    },
    {
      "cell_type": "markdown",
      "metadata": {
        "id": "BPrO5sWn2v5n"
      },
      "source": [
        "-   <span class=\"underline\">[https://colab.research.google.com/notebook](https://colab.research.google.com/notebook)</span>\n",
        "-   Offers free jupyter-notebook-as-a-service in the cloud\n",
        "    -   Even offers free access to cloud-based GPUs (need to change the runtime type!!!)\n",
        "-   Has all the packages we'll need for today pre-installed\n",
        "-   Demo\n",
        "    -   Basic jupyter usage\n",
        "\n"
      ]
    },
    {
      "cell_type": "code",
      "metadata": {
        "id": "hnwYOVMs2v5n",
        "outputId": "8f27026a-7137-4e33-dbc4-05e72e57e0fc"
      },
      "source": [
        "!ls # execute external commands"
      ],
      "execution_count": null,
      "outputs": [
        {
          "output_type": "stream",
          "text": [
            "colab_instructions\t\tyonsei-pytorch-handson.org\n",
            "figures\t\t\t\tyonsei-pytorch-lecture.org\n",
            "_minted-yonsei-pytorch-lecture\tyonsei-pytorch-lecture.pdf\n",
            "README.org\t\t\tyonsei-pytorch-lecture.tex\n",
            "yonsei-pytorch-handson.ipynb"
          ],
          "name": "stdout"
        }
      ]
    },
    {
      "cell_type": "code",
      "metadata": {
        "id": "lySE4Gza2v5t"
      },
      "source": [
        "import os\n",
        " # help at your fingertips\n",
        "?os"
      ],
      "execution_count": null,
      "outputs": []
    },
    {
      "cell_type": "code",
      "metadata": {
        "id": "E6_4w6rz2v5x"
      },
      "source": [
        "pi = 3.14159 # variables persists over cells"
      ],
      "execution_count": null,
      "outputs": []
    },
    {
      "cell_type": "code",
      "metadata": {
        "id": "D0hkP7Mw2v51",
        "outputId": "290398e2-a427-4e1c-c85a-90cf5ea3d9b1"
      },
      "source": [
        "pi*2"
      ],
      "execution_count": null,
      "outputs": [
        {
          "output_type": "stream",
          "text": [
            "6.28318"
          ],
          "name": "stdout"
        }
      ]
    },
    {
      "cell_type": "code",
      "metadata": {
        "id": "bMzrc-AC2v56"
      },
      "source": [
        "def area(radius):\n",
        "    return pi*radius**2"
      ],
      "execution_count": null,
      "outputs": []
    },
    {
      "cell_type": "code",
      "metadata": {
        "id": "6mip4ux-2v58",
        "outputId": "51cc012f-edbb-4a86-81bc-ffe85aaaa01c"
      },
      "source": [
        "area(1)"
      ],
      "execution_count": null,
      "outputs": [
        {
          "output_type": "stream",
          "text": [
            "3.14159"
          ],
          "name": "stdout"
        }
      ]
    },
    {
      "cell_type": "code",
      "metadata": {
        "id": "MRjweN5U2v6A",
        "outputId": "f9bcd99a-fc08-4140-ab13-e5a1e23cf0e7"
      },
      "source": [
        "# inline plotting\n",
        "import numpy as np\n",
        "import matplotlib.pyplot as plt\n",
        "\n",
        "x = np.linspace(-3.14, 3.14, 100)\n",
        "y = np.sin(x)\n",
        "plt.plot(x, y)\n",
        "plt.show()"
      ],
      "execution_count": null,
      "outputs": [
        {
          "output_type": "display_data",
          "data": {
            "image/png": "[encoded data removed]",
            "text/plain": [
              "<matplotlib.figure.Figure>"
            ]
          },
          "metadata": {
            "tags": []
          }
        }
      ]
    },
    {
      "cell_type": "markdown",
      "metadata": {
        "id": "Hif3aJNI2v6E"
      },
      "source": [
        "### PyTorch\n",
        "\n"
      ]
    },
    {
      "cell_type": "markdown",
      "metadata": {
        "id": "BNYnAckE2v6E"
      },
      "source": [
        "![img](https://github.com/watson-ij/yonsei-pytorch-tute-2020/blob/master/figures/pytorch.jpeg?raw=1)\n",
        "\n",
        "-   Deep learning framework based on Torch, a library for the Lua language\n",
        "-   Library written in python, user-friendly interface\n",
        "-   API is similar to numpy, can write straightforward python (cf. tensorflow)\n",
        "-   Easy to get started building networks\n",
        "    -   Though a little more setup required than Keras, with the trade-off\n",
        "        that you understand the training process deeper\n",
        "-   Quickly build and train serious models, easy to experiment\n",
        "\n",
        "We're going to run through some examples step-by-step in colab, and\n",
        "the complete examples in a single cell are available at the bottom of\n",
        "the notebook.\n",
        "\n"
      ]
    },
    {
      "cell_type": "markdown",
      "metadata": {
        "id": "rKse1J0V2v6F"
      },
      "source": [
        "### imports\n",
        "\n"
      ]
    },
    {
      "cell_type": "markdown",
      "metadata": {
        "id": "Fk4ZB8y12v6G"
      },
      "source": [
        "-   Follow along either on the web-based service, or your own machine\n",
        "-   Lets pull in all the imports and definitions we'll need up front\n",
        "\n"
      ]
    },
    {
      "cell_type": "markdown",
      "metadata": {
        "id": "M-IJRw9i2v6G"
      },
      "source": [
        "#### :BMCOL:\n",
        "\n"
      ]
    },
    {
      "cell_type": "code",
      "metadata": {
        "id": "HkQqZLXX2v6H"
      },
      "source": [
        "import matplotlib\n",
        "# matplotlib.use(\"AGG\")  # To batch graphics\n",
        "import matplotlib.pyplot as plt\n",
        "import os\n",
        "import seaborn as sns\n",
        "import numpy as np\n",
        "import torch\n",
        "import torch.nn as nn\n",
        "import torch.optim as optim\n",
        "import torchvision\n",
        "import datetime"
      ],
      "execution_count": null,
      "outputs": []
    },
    {
      "cell_type": "markdown",
      "metadata": {
        "id": "UYuwE3UL2v6K"
      },
      "source": [
        "## NN: Fisher's Irises\n",
        "\n"
      ]
    },
    {
      "cell_type": "markdown",
      "metadata": {
        "id": "8Ge0Q2mO2v6L"
      },
      "source": [
        "### Overarching Idea of (Supervised) Maching Learning\n",
        "\n"
      ]
    },
    {
      "cell_type": "markdown",
      "metadata": {
        "id": "W4LY_wuU2v6M"
      },
      "source": [
        "-   Framework for Machine Learning: given a set of data, and set of\n",
        "    expected outputs (typically categories), build a system which learns\n",
        "    how to connect data to output\n",
        "-   Neural Network is one type, connect stacks of tensor operators with fixed linear and non-linear transformations\n",
        "-   Optimize transformation parameters so as to approximate expected outputs\n",
        "\n"
      ]
    },
    {
      "cell_type": "markdown",
      "metadata": {
        "id": "CgmJHJsa2v6M"
      },
      "source": [
        "### The iris dataset and a basic network with Keras\n",
        "\n"
      ]
    },
    {
      "cell_type": "markdown",
      "metadata": {
        "id": "U1b925Wl2v6N"
      },
      "source": [
        "#### :BMCOL:\n",
        "\n"
      ]
    },
    {
      "cell_type": "markdown",
      "metadata": {
        "id": "I3H890Zi2v6N"
      },
      "source": [
        "| Iris Versicolor|Iris Virginica|Iris Setosa|\n",
        "| [img src=\"figures/Blue_Flag,_Ottawa.jpg\" alt=\"Blue_Flag,_Ottawa.jpg\" /](img src=\"figures/Blue_Flag,_Ottawa.jpg\" alt=\"Blue_Flag,_Ottawa.jpg\" /)|[img src=\"figures/1920px-Iris_virginica_2.jpg\" alt=\"1920px-Iris_virginica_2.jpg\" /](img src=\"figures/1920px-Iris_virginica_2.jpg\" alt=\"1920px-Iris_virginica_2.jpg\" /)|[img src=\"figures/Kosaciec_szczecinkowaty_Iris_setosa.jpg\" alt=\"Kosaciec_szczecinkowaty_Iris_setosa.jpg\" /](img src=\"figures/Kosaciec_szczecinkowaty_Iris_setosa.jpg\" alt=\"Kosaciec_szczecinkowaty_Iris_setosa.jpg\" /)|\n",
        "\n",
        "![img](https://github.com/watson-ij/yonsei-pytorch-tute-2020/blob/master/figures/iris_petal_sepal.png?raw=1)\n",
        "\n"
      ]
    },
    {
      "cell_type": "markdown",
      "metadata": {
        "id": "7cD1V73F2v6O"
      },
      "source": [
        "#### :BMCOL:\n",
        "\n"
      ]
    },
    {
      "cell_type": "markdown",
      "metadata": {
        "id": "sAZMwe_i2v6Q"
      },
      "source": [
        "-   Let's take a concrete example\n",
        "-   The iris dataset is a classic classification task, first studied by\n",
        "    Fisher in 1936.\n",
        "-   The goal is, given features measured from a particular\n",
        "    iris, classify it into one of three species\n",
        "    -   Iris setosa, virginica, versicolor.\n",
        "-   The variables are: Sepal width and length, petal width and length (all in cm).\n",
        "\n"
      ]
    },
    {
      "cell_type": "markdown",
      "metadata": {
        "id": "H-6qrc-M2v6R"
      },
      "source": [
        "### Iris dataset\n",
        "\n"
      ]
    },
    {
      "cell_type": "markdown",
      "metadata": {
        "id": "JdHdNPF92v6R"
      },
      "source": [
        "We begin by loading the iris dataset, helpfully available from the\n",
        "seaborn pacakge, which also lets us create plots showing the\n",
        "correlations between the variables.\n",
        "\n"
      ]
    },
    {
      "cell_type": "code",
      "metadata": {
        "id": "2Xfu0bVl2v6S",
        "outputId": "3d5a7683-3e73-4a00-ce7f-79fe0448fcde"
      },
      "source": [
        "iris = sns.load_dataset(\"iris\")\n",
        "iris.head()"
      ],
      "execution_count": null,
      "outputs": [
        {
          "output_type": "stream",
          "text": [
            "sepal_length  sepal_width  petal_length  petal_width species\n",
            "0           5.1          3.5           1.4          0.2  setosa\n",
            "1           4.9          3.0           1.4          0.2  setosa\n",
            "2           4.7          3.2           1.3          0.2  setosa\n",
            "3           4.6          3.1           1.5          0.2  setosa\n",
            "4           5.0          3.6           1.4          0.2  setosa"
          ],
          "name": "stdout"
        }
      ]
    },
    {
      "cell_type": "markdown",
      "metadata": {
        "id": "4yLZSQDb2v6V"
      },
      "source": [
        "### Iris Variables\n",
        "\n"
      ]
    },
    {
      "cell_type": "markdown",
      "metadata": {
        "id": "Si6S-ShR2v6V"
      },
      "source": [
        "Lets view the basic variables we have. Setosa (blue) looks easily\n",
        "separable by the petal length and width, but versicolor and virginica\n",
        "are a little tricky.\n",
        "\n"
      ]
    },
    {
      "cell_type": "code",
      "metadata": {
        "id": "Px4-p2Ef2v6W",
        "outputId": "143b018c-449a-4d7c-8f37-cad17215f802"
      },
      "source": [
        "plot = sns.pairplot(iris, hue=\"species\")\n",
        "plot.savefig('iris.png')"
      ],
      "execution_count": null,
      "outputs": [
        {
          "output_type": "display_data",
          "data": {
            "image/png": "[encoded data removed]",
            "text/plain": [
              "<matplotlib.figure.Figure>"
            ]
          },
          "metadata": {
            "tags": []
          }
        }
      ]
    },
    {
      "cell_type": "markdown",
      "metadata": {
        "id": "fPp-KF2g2v6a"
      },
      "source": [
        "### PyTorch Networks\n",
        "\n"
      ]
    },
    {
      "cell_type": "markdown",
      "metadata": {
        "id": "iloU2ell2v6a"
      },
      "source": [
        "In order to classify the irises, we'll build a simple network in PyTorch.\n",
        "\n",
        "-   Helper functions to easily build neural networks are provided by the\n",
        "    `torch.nn` module (usually imported as `nn`)\n",
        "-   In PyTorch, neural networks are made as classes deriving from\n",
        "    `nn.Module`\n",
        "-   You need to provide an `__init__` method setting up the parameters\n",
        "    (i.e. attach them to `self`), and a `forward(x)` method which\n",
        "    returns the network output for the input `x`\n",
        "    -   PyTorch keeps track of the parameters and the **computational\n",
        "        graph** which is needed to efficiently perform backpropagation\n",
        "-   Interface to/from the model with the PyTorch `Tensor` class\n",
        "    (essentially a numpy array which can be interfaced with PyTorch's\n",
        "    backprop and can be placed on the GPU)\n",
        "    -   In fact, `Tensor.numpy()` will give you back a regular numpy array\n",
        "\n",
        "![img](https://github.com/watson-ij/yonsei-pytorch-tute-2020/blob/master/figures/nn-1a.png?raw=1)\n",
        "\n"
      ]
    },
    {
      "cell_type": "code",
      "metadata": {
        "id": "FWwl2u-b2v6b",
        "outputId": "dd5bfe99-2c2b-4af1-8d85-9c6ee06eacd5"
      },
      "source": [
        "arr = np.array([1.,2.,3.])\n",
        "print(torch.Tensor(arr)) # build from a numpy array\n",
        "print(torch.Tensor([1.,2.,3.])) # or a python array\n",
        "print(torch.linspace(1., 3., 3)) # or a helper function"
      ],
      "execution_count": null,
      "outputs": [
        {
          "output_type": "stream",
          "text": [
            "tensor([1., 2., 3.])\n",
            "tensor([1., 2., 3.])\n",
            "tensor([1., 2., 3.])"
          ],
          "name": "stdout"
        }
      ]
    },
    {
      "cell_type": "markdown",
      "metadata": {
        "id": "oSQ5ciDS2v6e"
      },
      "source": [
        "### Model\n",
        "\n"
      ]
    },
    {
      "cell_type": "markdown",
      "metadata": {
        "id": "PwkWvtXJ2v6f"
      },
      "source": [
        "-   Our model will be a simple NN with a single hidden layer\n",
        "-   We start by building a `nn.Module` class and add `nn.Linear` (fully-connected) layer, with sigmoid activation\n",
        "-   `nn.Module` : the base class for networks (really computational\n",
        "    graphs) in pytorch, your networks should derive from this class, and\n",
        "    call its `__init__` method\n",
        "-   `nn.Linear`: standard layer, all inputs connect to all outputs: $\\hat{y} = W\\hat{x} + \\hat{b}$\n",
        "    -   `nn.Linear(input_dim, output_dim)`\n",
        "-   In pytorch, activations are just functions in the `torch` module,\n",
        "    they have equivalents in `torch.nn`, but one of the strengths of\n",
        "    pytorch cf keras is that you can just call functions like standard\n",
        "    numpy\n",
        "-   Some commonly seen activation functions:\n",
        "    -   `sigmoid`: $f(x) = \\frac{1}{1 + e^{-x}}$\n",
        "    -   `tanh`: $f(x) = \\tanh{x} = \\frac{e^x - e^{-x}}{e^x + e^{-x}}$\n",
        "    -   `relu`: $f(x) = \\mathrm{max}(0, x)$, 'rectified linear unit'\n",
        "    -   `softplus`: $f(x) =  \\ln{(1 + e^x)}$, smooth approx. to `relu`\n",
        "    -   `softmax`: $f_k(x) = \\frac{e^{-x_k}}{\\sum_i e^{-x_i}}$ for the $k$'th output, as last layer of categorical distribution, represents a probability distribution over the outputs\n",
        "\n"
      ]
    },
    {
      "cell_type": "markdown",
      "metadata": {
        "id": "_q9dzlCc2v6f"
      },
      "source": [
        "### Build a model: Python code\n",
        "\n"
      ]
    },
    {
      "cell_type": "markdown",
      "metadata": {
        "id": "GF7wFcfG2v6g"
      },
      "source": [
        "Putting it all together, we can build our first neural network:\n",
        "\n"
      ]
    },
    {
      "cell_type": "code",
      "metadata": {
        "id": "-wnQYRJf2v6g",
        "outputId": "135623f9-f735-4703-a88c-6807747b2797"
      },
      "source": [
        "class MyNet(nn.Module):\n",
        "    def __init__(self):\n",
        "        # setup with nn.Module's initializer\n",
        "        super(MyNet, self).__init__()\n",
        "        # Linear is a helper creating a fully-connected layer\n",
        "        # (i.e. typical feedforward neural network)\n",
        "        self.fc1 = nn.Linear(4,128) # fc=fully-connected\n",
        "        self.fc2 = nn.Linear(128,3) # 3 possible outputs\n",
        "    def forward(self, x):\n",
        "        # Typical pattern in torch code, reuse the name x for\n",
        "        # successive layers\n",
        "        x = torch.sigmoid(self.fc1(x))\n",
        "        x = self.fc2(x)\n",
        "        return x\n",
        "\n",
        "# Build an instance of the model\n",
        "net = MyNet()\n",
        "net"
      ],
      "execution_count": null,
      "outputs": [
        {
          "output_type": "stream",
          "text": [
            "MyNet(\n",
            "  (fc1): Linear(in_features=4, out_features=128, bias=True)\n",
            "  (fc2): Linear(in_features=128, out_features=3, bias=True)\n",
            ")"
          ],
          "name": "stdout"
        }
      ]
    },
    {
      "cell_type": "markdown",
      "metadata": {
        "id": "1JHtYS2T2v6j"
      },
      "source": [
        "We can see how many parameters (trainable weights) the model has by\n",
        "summing over the `numel()` from the `parameters()` list. It matches\n",
        "our expectation:\n",
        "\n"
      ]
    },
    {
      "cell_type": "code",
      "metadata": {
        "id": "LLSXy8Ct2v6k",
        "outputId": "99b946ec-29cb-45d3-c288-72fe5ec2ffa5"
      },
      "source": [
        "sum(p.numel() for p in net.parameters()), 4*128+128 + 3*128+3"
      ],
      "execution_count": null,
      "outputs": [
        {
          "output_type": "stream",
          "text": [
            "| 1027 | 1027 |"
          ],
          "name": "stdout"
        }
      ]
    },
    {
      "cell_type": "markdown",
      "metadata": {
        "id": "vqyhcJPC2v6m"
      },
      "source": [
        "-   Simply use the regular torch functions available in\n",
        "-   Notice, we didn't specify a softmax activation in the final layer\n",
        "    -   We'll see why when we get to training\n",
        "-   To use, simply pass in an input tensor\n",
        "\n"
      ]
    },
    {
      "cell_type": "code",
      "metadata": {
        "id": "JN4a1Z8A2v6n",
        "outputId": "d2465dc4-e86c-43cd-8cb5-f30fa6dd67bd"
      },
      "source": [
        "input = torch.tensor([1.,2.,3.,4.])\n",
        "net(input)"
      ],
      "execution_count": null,
      "outputs": [
        {
          "output_type": "stream",
          "text": [
            "tensor([ 0.1369, -0.3811, -0.6350], grad_fn=<AddBackward0>)"
          ],
          "name": "stdout"
        }
      ]
    },
    {
      "cell_type": "markdown",
      "metadata": {
        "id": "C1NhPzGU2v6p"
      },
      "source": [
        "-   Note that the network allows you to pass in several datapoints at\n",
        "    once, so you can use a tensor of dimension 1 more than the\n",
        "    dimension of a single datapoint\n",
        "-   Here, we have a 1d tensor with 4 elements in the first dimension, so\n",
        "    we can pass a dimension 2 tensor in (the first dimension is the n-inputs dimension)\n",
        "\n"
      ]
    },
    {
      "cell_type": "code",
      "metadata": {
        "id": "5SyvYWmd2v6p",
        "outputId": "42e6b92c-145e-4904-a49c-6457b0a3e704"
      },
      "source": [
        "# Process two inputs, get back two outputs\n",
        "input = torch.tensor([[1.,2.,3.,4.],\n",
        "                      [2.,3.,4.,5.]])\n",
        "net(input)"
      ],
      "execution_count": null,
      "outputs": [
        {
          "output_type": "stream",
          "text": [
            "tensor([[-0.3247, -0.2006,  0.1621],\n",
            "        [-0.3255, -0.1476,  0.1677]], grad_fn=<AddmmBackward>)"
          ],
          "name": "stdout"
        }
      ]
    },
    {
      "cell_type": "markdown",
      "metadata": {
        "id": "8u2BaiPl2v6t"
      },
      "source": [
        "-   To run on the GPU, we need to make sure all the parameters of the\n",
        "    network are placed on the GPU, and the inputs are placed on the GPU.\n",
        "    -   We can use the `Tensor.cuda()` funcion which returns a GPU copy of the tensor\n",
        "    -   We can also use `Tensor.to(dev)` with `dev =\n",
        "            torch.device('cuda:0')` to specify a specific CUDA device, or have a\n",
        "        way to switch to cpu (`dev = torch.device('cpu')`, could have an\n",
        "        if-clause choosing cuda if available or else CPU)\n",
        "-   Similarly, we can put a cuda tensor back on the CPU with `Tensor.cpu()`\n",
        "\n"
      ]
    },
    {
      "cell_type": "code",
      "metadata": {
        "id": "ulJpkPZj2v6u",
        "outputId": "ce6e728c-1ab7-45ff-a659-aa6417d2f25a"
      },
      "source": [
        "net = net.cuda() # put network on GPU \n",
        "input = input.cuda() # and the input tensor\n",
        "net(input) # you should see the device is now displayed"
      ],
      "execution_count": null,
      "outputs": [
        {
          "output_type": "stream",
          "text": [
            "tensor([[-0.3247, -0.2006,  0.1621],\n",
            "        [-0.3255, -0.1476,  0.1677]], device='cuda:0', grad_fn=<AddmmBackward>)"
          ],
          "name": "stdout"
        }
      ]
    },
    {
      "cell_type": "markdown",
      "metadata": {
        "id": "QhXElCmF2v6w"
      },
      "source": [
        "### Loss function\n",
        "\n"
      ]
    },
    {
      "cell_type": "markdown",
      "metadata": {
        "id": "7PuwJD2k2v6x"
      },
      "source": [
        "-   To train a network, we need a function to minimize, a *loss* function\n",
        "-   There are many loss functions built-in to pytorch, some useful ones:\n",
        "    -   `BCELoss` : binary cross-entropy loss, for classifying a single\n",
        "        output for on-off/yes-no conditions, it returns -log(output) if\n",
        "        the result should be 1, -log(1-output) if the result should be 0\n",
        "        -   This derives from a likelihood anaylsis of the binomial distribution\n",
        "    -   `CrossEntropyLoss` : cross-entropy loss, for classifying into\n",
        "        multiple categories using a one-hot encoding scheme,   \n",
        "        -log(softmax<sub>output</sub>[correct position])\n",
        "    -   `MSELoss` : mean-square error loss, useful for regression and\n",
        "        similar\n",
        "-   They have the common form `loss_fn(prediction, true_values)`\n",
        "    -   `prediction` is the network output for a batch, `true_values` are\n",
        "        the corresponding truth labels\n",
        "\n",
        "Lets start with an example of binary cross-entropy loss. Use when\n",
        "there's only 2 classes to classify. Here, we also show a quicker way\n",
        "of setting up a simple network using `Sequential` (should be familiar\n",
        "if you know Keras).\n",
        "\n"
      ]
    },
    {
      "cell_type": "code",
      "metadata": {
        "id": "I63gln1r2v6x",
        "outputId": "a8f69cf6-3bfe-4e10-97bd-62bd6b85f0a7"
      },
      "source": [
        "# For simple networks just containing stacks of layers, one can use\n",
        "# the Sequential module instead, need explicit layers for the\n",
        "# activation in this case\n",
        "aNet = nn.Sequential(nn.Linear(2,4), nn.Sigmoid(), nn.Linear(4,1), nn.Sigmoid()).cuda()\n",
        "\n",
        "loss_fn = torch.nn.BCELoss() # the losses live in torch.nn\n",
        "out = aNet(torch.zeros(2).cuda()) # the net is on the GPU\n",
        "loss = loss_fn(out, torch.tensor([1.]).cuda()) # one datapt\n",
        "print(loss.item(), -torch.log(out).item()) # theres no magic"
      ],
      "execution_count": null,
      "outputs": [
        {
          "output_type": "stream",
          "text": [
            "1.0056694746017456 1.0056694746017456"
          ],
          "name": "stdout"
        }
      ]
    },
    {
      "cell_type": "markdown",
      "metadata": {
        "id": "7G0o4g7o2v60"
      },
      "source": [
        "For more than two outputs, we use cross-entropy loss. In pytorch, the\n",
        "loss function applies the softmax itself (so we don't need it in our\n",
        "network), and then applies the -log(p) function on the true values\n",
        "output [think of it like the -log of the networks probability for it\n",
        "to be the true value].\n",
        "\n"
      ]
    },
    {
      "cell_type": "code",
      "metadata": {
        "id": "ysNInG5w2v61",
        "outputId": "9d34d868-901e-42a4-8692-d6b7e66dabb3"
      },
      "source": [
        "loss_fn = torch.nn.CrossEntropyLoss()\n",
        "# the net is on the GPU, here we create 3 inputs, each filled with zeros\n",
        "out = net(torch.zeros(3,4).cuda())\n",
        " # for CrossEntropyLoss, the true values should be the position of the real label\n",
        "print(loss_fn(out, torch.tensor([0,1,2]).cuda()))\n",
        "# Note that the output is the *average* of the losses of all the input items\n",
        "#   this makes it easier to process a batch of inputs and run gradient descent"
      ],
      "execution_count": null,
      "outputs": [
        {
          "output_type": "stream",
          "text": [
            "tensor(1.1201, device='cuda:0', grad_fn=<NllLossBackward>)"
          ],
          "name": "stdout"
        }
      ]
    },
    {
      "cell_type": "markdown",
      "metadata": {
        "id": "csGDlscJ2v64"
      },
      "source": [
        "Just to be explicit of what CrossEntropyLoss means.\n",
        "\n",
        "-   *softmax* normalizes the output layer so it sums to 1: $f_k(x) = \\frac{e^{-y_k}}{\\sum_i e^{-y_i}}$\n",
        "-   Cross-entropy loss is the -log(p) where p is the output of the softmax for the (known) true value\n",
        "    -   We are in the fully-labelled paradigm for training\n",
        "\n"
      ]
    },
    {
      "cell_type": "code",
      "metadata": {
        "id": "X4-Pa7Cc2v64",
        "outputId": "bf523b4d-318f-4987-fdf2-c652a4fd2540"
      },
      "source": [
        "out = net(torch.zeros(1,4).cuda())\n",
        "loss = loss_fn(out, torch.tensor([0]).cuda())\n",
        "# use item() to extract a single value from a tensor and return as a python float\n",
        "print(\"output of the loss_fn\", loss.item())\n",
        "# we softmax over the outputs (zeroth axis is the datapoints axis, first axis is the output axis)\n",
        "print(torch.softmax(out,1))\n",
        "# The softmax output sums to 1, hence its like a \"probability for each possible output\"\n",
        "print(torch.softmax(out,1).sum().item())\n",
        "# then cross entropy is the -log(p) where p is the true output, here\n",
        "# we pretend that we know the 0th category is the true category\n",
        "print(-torch.log(torch.softmax(out,1)[0,0]).item())"
      ],
      "execution_count": null,
      "outputs": [
        {
          "output_type": "stream",
          "text": [
            "output of the loss_fn 1.2442547082901\n",
            "tensor([[0.2882, 0.2773, 0.4345]], device='cuda:0', grad_fn=<SoftmaxBackward>)\n",
            "1.0\n",
            "1.2442547082901"
          ],
          "name": "stdout"
        }
      ]
    },
    {
      "cell_type": "markdown",
      "metadata": {
        "id": "f0SpSqak2v67"
      },
      "source": [
        "The closer the output of the true value is to 1, the closer the\n",
        "CrossEntropyLoss is to 0. The closer it is to 0, the CrossEntropyLoss\n",
        "will exponentially approach -infinity. Hence, minimizing the\n",
        "CrossEntropyLoss is equivalent to maximizing the softmax output\n",
        "probability of the true value to 1, and true value softmax outputs\n",
        "close to 0 are exponentially penalized (its worse to be close to 0\n",
        "than it is to be a little bit further from 1).\n",
        "\n",
        "If you want to apply the softmax inside the network yourself, you can\n",
        "use `NLLLoss` instead of `CrossEntropyLoss`. The reason you wouldn't\n",
        "is that to get a \"prediction\" from an unknown datapoint after training\n",
        "the network, you can just take the position with the max of the\n",
        "network output, you don't need to calculate the (relatively expensive)\n",
        "softmax, which is just rescaling the values so they're all between 0\n",
        "and 1.\n",
        "\n",
        "`BCELoss` expects a value between 0 and 1, so you should apply\n",
        "`sigmoid` to the final layer in this case.\n",
        "\n"
      ]
    },
    {
      "cell_type": "markdown",
      "metadata": {
        "id": "xaZme5YM2v67"
      },
      "source": [
        "### Calculating Gradients\n",
        "\n"
      ]
    },
    {
      "cell_type": "markdown",
      "metadata": {
        "id": "NrafEU_H2v67"
      },
      "source": [
        "One final thing that we need to do is to calculate the partial\n",
        "derivatives of all the parameters of the model with respect to the\n",
        "loss, then we can use the gradient descent algorithm to update the\n",
        "weights. PyTorch has been keeping track of the computational graph\n",
        "built up when we calculate the loss, and can calculate and store the\n",
        "partial derivatives in the graph by calling `backward()` on the loss.\n",
        "\n",
        "Gradients accumulate, meaning multiple calls to `backward()` will sum\n",
        "the gradients stored in each weight. This allows the graph to be built\n",
        "up in possibly several batches before using, allowing for arbitrary\n",
        "flexibility. We can clear out the gradients using `zero_grad()`:\n",
        "\n"
      ]
    },
    {
      "cell_type": "code",
      "metadata": {
        "id": "9MWv1PZf2v68",
        "outputId": "19c02bc9-2fde-4025-cbad-7028a9b55e37"
      },
      "source": [
        "loss.backward() # calculate once so the gradients are actually made\n",
        "net.zero_grad() # clear the gradients\n",
        "# print out one specific weight in our network\n",
        "print(list(net.fc1.parameters())[0].grad[0,0])\n",
        "out = net(torch.ones(1,4).cuda())\n",
        "loss = loss_fn(out, torch.tensor([0]).cuda())\n",
        "loss.backward() # calculate the gradients with inputs all 1s\n",
        "print(list(net.fc1.parameters())[0].grad[0,0])"
      ],
      "execution_count": null,
      "outputs": [
        {
          "output_type": "stream",
          "text": [
            "tensor(0., device='cuda:0')\n",
            "tensor(-0.0056, device='cuda:0')"
          ],
          "name": "stdout"
        }
      ]
    },
    {
      "cell_type": "markdown",
      "metadata": {
        "id": "4pL14oGD2v6-"
      },
      "source": [
        "### Training\n",
        "\n"
      ]
    },
    {
      "cell_type": "markdown",
      "metadata": {
        "id": "a2k_LSb92v6-"
      },
      "source": [
        "-   Now we fit to the training data.\n",
        "-   We need to choose the number of `epochs` and the `batch_size`\n",
        "    -   Epochs: number of training passes through the complete dataset\n",
        "    -   Batch size: number of datapoints to consider together when\n",
        "        updating the network, pytorch will calculate a single batch in a\n",
        "        single call to the netowrk\n",
        "-   We will pass through the input data as a tensor of shape (nsamples, 4)\n",
        "-   We pass the output as a tensor of (nsamples) indicating the true class position\n",
        "-   We transform the raw species information (which labels classes as\n",
        "    strings: \"setosa\", \"virginica\", \"versicolor\") to the expected format\n",
        "    -   Plants which are really setosa = 0, versicolor = 1, virginica = 2\n",
        "\n"
      ]
    },
    {
      "cell_type": "code",
      "metadata": {
        "id": "ekifs5i22v6_",
        "outputId": "c88f7ac4-1f03-4d85-92a4-32e2b3a2a51c"
      },
      "source": [
        "variables = iris.values[:, :4]\n",
        "species_ = iris.values[:, 4]\n",
        "\n",
        "# One hot encode the species target\n",
        "smap = {'setosa' : 0, 'versicolor' : 1, 'virginica' : 2}\n",
        "species = np.array(list(smap[s] for s in species_))\n",
        "\n",
        "# To show we are simply passing numpy arrays of the data\n",
        "print(iris.iloc[0])\n",
        "print(\"----------\")\n",
        "print(variables[0], \":\", species_[0], \":\", species[0])"
      ],
      "execution_count": null,
      "outputs": [
        {
          "output_type": "stream",
          "text": [
            "sepal_length       5.1\n",
            "sepal_width        3.5\n",
            "petal_length       1.4\n",
            "petal_width        0.2\n",
            "species         setosa\n",
            "Name: 0, dtype: object\n",
            "----------\n",
            "[5.1 3.5 1.4 0.2] : setosa : 0"
          ],
          "name": "stdout"
        }
      ]
    },
    {
      "cell_type": "markdown",
      "metadata": {
        "id": "aNzsUupG2v7A"
      },
      "source": [
        "### Training Loop\n",
        "\n"
      ]
    },
    {
      "cell_type": "markdown",
      "metadata": {
        "id": "Dx8XKxwe2v7B"
      },
      "source": [
        "-   By default, there's no automatic training functions in PyTorch, you're expected to build it yourself\n",
        "    -   This is different from, say, Keras, which gives you a 'fit' function\n",
        "-   It does give you the tools to build the loop easily though\n",
        "-   We will fit the model to a labelled dataset by creating a \"training\n",
        "    loop\"\n",
        "-   We will pass a minibatch into the network, calculate the average\n",
        "    loss, the update the network based on minimizing that minibatch loss\n",
        "    -   This is \"Stochastic Gradient Descent\", as opposed to full gradient\n",
        "        descent, which would calculate the average on the full dataset\n",
        "        before updating the network\n",
        "    -   The trade off is that SGD only approximates the loss landscape for\n",
        "        each batch, while full GD requires much more computation for each update\n",
        "    -   Also, you can argue that SGD should generalize better since its\n",
        "        harder to fit to the datapoints and easier to fit general features \n",
        "        with the loss landscape constantly changing between updates\n",
        "-   An optimizer keeps track of the gradients and can potentially\n",
        "    automatically set different learning rates for different parameters\n",
        "    -   E.g. look up Adam, Adagrad, or RMSprop for instance\n",
        "    -   We'll use the basic SGD optimizer here\n",
        "-   The `torch.optim` module contains several optimizers, which take in\n",
        "    the network parameters and some options, and will keep track of the\n",
        "    gradients, and apply a gradient descent (or similar) `step` to the\n",
        "    network\n",
        "    -   We use `zero_grad` to zero out the gradients: you can also run\n",
        "        several batches and then step the optimizer\n",
        "-   `n_epochs` is the number of times through the complete dataset you will train for\n",
        "    -   The more you train, the better the fit, but you need to be careful of overfitting\n",
        "\n"
      ]
    },
    {
      "cell_type": "code",
      "metadata": {
        "id": "Np1HTEsb2v7I",
        "outputId": "0aeccb38-818a-4f4f-a40b-3a91522e8c02"
      },
      "source": [
        "# By default, pytorch operates on floats, not doubles\n",
        "X, Y = torch.tensor(variables.astype('float32')).cuda(), torch.tensor(species).cuda()\n",
        "# A basic stochastic gradient descent optimizer\n",
        "n_epochs, minibatch_size = 5, 16\n",
        "optimizer = optim.SGD(net.parameters(), lr=0.1)\n",
        "loss_fn = torch.nn.CrossEntropyLoss()\n",
        "optimizer.zero_grad()\n",
        "# loop over epochs\n",
        "for _ in range(n_epochs):\n",
        "  # take slices of data for the minibatch\n",
        "  for idx in range(0,len(X),minibatch_size):\n",
        "    x, y = X[idx:idx+minibatch_size], Y[idx:idx+minibatch_size]\n",
        "    optimizer.zero_grad()\n",
        "    prediction = net(x)\n",
        "    loss = loss_fn(prediction, y)\n",
        "    loss.backward()\n",
        "    optimizer.step()\n",
        "print(\"Finished training!\")"
      ],
      "execution_count": null,
      "outputs": [
        {
          "output_type": "stream",
          "text": [
            "Finished training!"
          ],
          "name": "stdout"
        }
      ]
    },
    {
      "cell_type": "markdown",
      "metadata": {
        "id": "6zAXNqzi2v7L"
      },
      "source": [
        "Now lets check the output of the trained network on some example\n",
        "inputs.\n",
        "\n"
      ]
    },
    {
      "cell_type": "code",
      "metadata": {
        "id": "QeEP6AyU2v7L",
        "outputId": "8476183e-2553-4d94-e614-9bbd977e72e6"
      },
      "source": [
        "for x, y in zip(torch.softmax(net(X[:5]),1), Y[:5]): print(x,y.item())"
      ],
      "execution_count": null,
      "outputs": [
        {
          "output_type": "stream",
          "text": [
            "tensor([0.7734, 0.1449, 0.0817], device='cuda:0', grad_fn=<SelectBackward>) 0\n",
            "tensor([0.7146, 0.1688, 0.1166], device='cuda:0', grad_fn=<SelectBackward>) 0\n",
            "tensor([0.7630, 0.1485, 0.0885], device='cuda:0', grad_fn=<SelectBackward>) 0\n",
            "tensor([0.7079, 0.1656, 0.1265], device='cuda:0', grad_fn=<SelectBackward>) 0\n",
            "tensor([0.7853, 0.1385, 0.0763], device='cuda:0', grad_fn=<SelectBackward>) 0"
          ],
          "name": "stdout"
        }
      ]
    },
    {
      "cell_type": "markdown",
      "metadata": {
        "id": "nvkzQkaj2v7M"
      },
      "source": [
        "Looking good. Lets check the accuracy of the network\n",
        "\n"
      ]
    },
    {
      "cell_type": "code",
      "metadata": {
        "id": "xYL--vjn2v7O",
        "outputId": "f7a2d5b9-531d-4984-c08a-c284e2df9ef4"
      },
      "source": [
        "prediction=net(X)\n",
        "_, prediction_y = torch.max(prediction,1) # returns (the max value, position of the max value)\n",
        "print(torch.sum(prediction_y==Y) / float(len(Y))) # sum the number we got correct"
      ],
      "execution_count": null,
      "outputs": [
        {
          "output_type": "stream",
          "text": [
            "tensor(0.6667, device='cuda:0')"
          ],
          "name": "stdout"
        }
      ]
    },
    {
      "cell_type": "markdown",
      "metadata": {
        "id": "8r46_5Vf2v7Q"
      },
      "source": [
        "67%, the network got stuck in a local minimum this time (you'll\n",
        "probably get a different value).\n",
        "\n",
        "Lets make a confusion matrix to find out where the network is having troubles\n",
        "\n"
      ]
    },
    {
      "cell_type": "code",
      "metadata": {
        "id": "MGdXO1op2v7Q",
        "outputId": "e04f4a5b-9d47-4f06-a023-c5a52d8b2260"
      },
      "source": [
        "confusion = torch.zeros(3, 3)\n",
        "for i, j in zip(net(X).max(1)[1], Y): confusion[i,j] += 1\n",
        "plt.matshow(confusion)\n",
        "plt.colorbar()"
      ],
      "execution_count": null,
      "outputs": [
        {
          "output_type": "stream",
          "text": [
            "<matplotlib.colorbar.Colorbar at 0x7f14b007faf0>"
          ],
          "name": "stdout"
        },
        {
          "output_type": "display_data",
          "data": {
            "image/png": "[encoded data removed]",
            "text/plain": [
              "<matplotlib.figure.Figure>"
            ]
          },
          "metadata": {
            "tags": []
          }
        }
      ]
    },
    {
      "cell_type": "markdown",
      "metadata": {
        "id": "gFjCpoD82v7T"
      },
      "source": [
        "So its confusing 1 for 2. We could try training more, or if the\n",
        "network is simply stuck in a local minima, try to retrain, possibly\n",
        "changing some of the values.\n",
        "\n",
        "Some exercises\n",
        "\n",
        "-   Try to increase the number of nodes in the hidden layer of the\n",
        "    network, and retraining\n",
        "-   Try adding another hidden layer to the network and retraining\n",
        "    -   You'll need to add an `fc3` and you change the `fc2` output to\n",
        "        more hidden nodes\n",
        "-   The activation function we're using `sigmoid` is prone to getting\n",
        "    stuck (if all inputs are large or small, then it will output 0 or 1\n",
        "    always, and the partial will always be 0, so its impossible to\n",
        "    train). Try using an alternative activation function, like `relu`,\n",
        "    does it work better?\n",
        "-   Try changing the optimizer. For example, try using `Adam`, does it\n",
        "    help the network converge more quickly?\n",
        "    -   In this case though, there are very few datapoints&#x2026;\n",
        "\n"
      ]
    },
    {
      "cell_type": "markdown",
      "metadata": {
        "id": "-JE-hm122v7T"
      },
      "source": [
        "## DNN: MNIST\n",
        "\n"
      ]
    },
    {
      "cell_type": "markdown",
      "metadata": {
        "id": "PSDZGZbV2v7T"
      },
      "source": [
        "-   Okay, we're done with the warmup, lets try to build an actual deep\n",
        "    learning network, by training an image classifier\n",
        "-   Another, more recent, classic classification task\n",
        "-   Given a 28x28 image of a handwritten digit, can you train a\n",
        "    classifier to recognize the numbers from 0 to 9?\n",
        "    -   The data was collected by NIST, and Modified to fit into a\n",
        "        standard format: 28x28 with 256 greyscale levels per pixel\n",
        "-   There is an additional library `torchvision` which has the ability\n",
        "    to download the dataset into a torch dataset, which is a class that\n",
        "    wraps up the X and Y tensors we were using\n",
        "    -   It gives us PIL images, we use the transform to change it to a\n",
        "        tensor\n",
        "    -   There are other transformations you could perform on the image:\n",
        "        cropping, normalizing, etc.\n",
        "-   The dataset is split into testing and training sets\n",
        "    -   The training set should be used to train the network, the testing\n",
        "        set should only be used to test the network performance\n",
        "    -   This helps gauge how well the training is doing to generalize on\n",
        "        unseen data\n",
        "\n"
      ]
    },
    {
      "cell_type": "code",
      "metadata": {
        "id": "5daQHY742v7T"
      },
      "source": [
        "train_ = torchvision.datasets.MNIST('/tmp', download=True, train=True, transform=torchvision.transforms.ToTensor())\n",
        "test_ = torchvision.datasets.MNIST('/tmp', download=True, train=False, transform=torchvision.transforms.ToTensor())"
      ],
      "execution_count": null,
      "outputs": []
    },
    {
      "cell_type": "markdown",
      "metadata": {
        "id": "6_VCXBDM2v7V"
      },
      "source": [
        "Lets see what it looks like:\n",
        "\n"
      ]
    },
    {
      "cell_type": "code",
      "metadata": {
        "id": "utJyG7u_2v7V",
        "outputId": "9f82c218-4c0e-48b9-cff3-b6bd1908b030"
      },
      "source": [
        "print(train_.data.shape) # X\n",
        "print(train_.targets.shape) # Y\n",
        "print(train_.data[0], train_.targets[0])"
      ],
      "execution_count": null,
      "outputs": [
        {
          "output_type": "stream",
          "text": [
            "#+begin_example\n",
            "torch.Size([60000, 28, 28])\n",
            "torch.Size([60000])\n",
            "tensor([[  0,   0,   0,   0,   0,   0,   0,   0,   0,   0,   0,   0,   0,   0,\n",
            "           0,   0,   0,   0,   0,   0,   0,   0,   0,   0,   0,   0,   0,   0],\n",
            "        [  0,   0,   0,   0,   0,   0,   0,   0,   0,   0,   0,   0,   0,   0,\n",
            "           0,   0,   0,   0,   0,   0,   0,   0,   0,   0,   0,   0,   0,   0],\n",
            "        [  0,   0,   0,   0,   0,   0,   0,   0,   0,   0,   0,   0,   0,   0,\n",
            "           0,   0,   0,   0,   0,   0,   0,   0,   0,   0,   0,   0,   0,   0],\n",
            "        [  0,   0,   0,   0,   0,   0,   0,   0,   0,   0,   0,   0,   0,   0,\n",
            "           0,   0,   0,   0,   0,   0,   0,   0,   0,   0,   0,   0,   0,   0],\n",
            "        [  0,   0,   0,   0,   0,   0,   0,   0,   0,   0,   0,   0,   0,   0,\n",
            "           0,   0,   0,   0,   0,   0,   0,   0,   0,   0,   0,   0,   0,   0],\n",
            "        [  0,   0,   0,   0,   0,   0,   0,   0,   0,   0,   0,   0,   3,  18,\n",
            "          18,  18, 126, 136, 175,  26, 166, 255, 247, 127,   0,   0,   0,   0],\n",
            "        [  0,   0,   0,   0,   0,   0,   0,   0,  30,  36,  94, 154, 170, 253,\n",
            "         253, 253, 253, 253, 225, 172, 253, 242, 195,  64,   0,   0,   0,   0],\n",
            "        [  0,   0,   0,   0,   0,   0,   0,  49, 238, 253, 253, 253, 253, 253,\n",
            "         253, 253, 253, 251,  93,  82,  82,  56,  39,   0,   0,   0,   0,   0],\n",
            "        [  0,   0,   0,   0,   0,   0,   0,  18, 219, 253, 253, 253, 253, 253,\n",
            "         198, 182, 247, 241,   0,   0,   0,   0,   0,   0,   0,   0,   0,   0],\n",
            "        [  0,   0,   0,   0,   0,   0,   0,   0,  80, 156, 107, 253, 253, 205,\n",
            "          11,   0,  43, 154,   0,   0,   0,   0,   0,   0,   0,   0,   0,   0],\n",
            "        [  0,   0,   0,   0,   0,   0,   0,   0,   0,  14,   1, 154, 253,  90,\n",
            "           0,   0,   0,   0,   0,   0,   0,   0,   0,   0,   0,   0,   0,   0],\n",
            "        [  0,   0,   0,   0,   0,   0,   0,   0,   0,   0,   0, 139, 253, 190,\n",
            "           2,   0,   0,   0,   0,   0,   0,   0,   0,   0,   0,   0,   0,   0],\n",
            "        [  0,   0,   0,   0,   0,   0,   0,   0,   0,   0,   0,  11, 190, 253,\n",
            "          70,   0,   0,   0,   0,   0,   0,   0,   0,   0,   0,   0,   0,   0],\n",
            "        [  0,   0,   0,   0,   0,   0,   0,   0,   0,   0,   0,   0,  35, 241,\n",
            "         225, 160, 108,   1,   0,   0,   0,   0,   0,   0,   0,   0,   0,   0],\n",
            "        [  0,   0,   0,   0,   0,   0,   0,   0,   0,   0,   0,   0,   0,  81,\n",
            "         240, 253, 253, 119,  25,   0,   0,   0,   0,   0,   0,   0,   0,   0],\n",
            "        [  0,   0,   0,   0,   0,   0,   0,   0,   0,   0,   0,   0,   0,   0,\n",
            "          45, 186, 253, 253, 150,  27,   0,   0,   0,   0,   0,   0,   0,   0],\n",
            "        [  0,   0,   0,   0,   0,   0,   0,   0,   0,   0,   0,   0,   0,   0,\n",
            "           0,  16,  93, 252, 253, 187,   0,   0,   0,   0,   0,   0,   0,   0],\n",
            "        [  0,   0,   0,   0,   0,   0,   0,   0,   0,   0,   0,   0,   0,   0,\n",
            "           0,   0,   0, 249, 253, 249,  64,   0,   0,   0,   0,   0,   0,   0],\n",
            "        [  0,   0,   0,   0,   0,   0,   0,   0,   0,   0,   0,   0,   0,   0,\n",
            "          46, 130, 183, 253, 253, 207,   2,   0,   0,   0,   0,   0,   0,   0],\n",
            "        [  0,   0,   0,   0,   0,   0,   0,   0,   0,   0,   0,   0,  39, 148,\n",
            "         229, 253, 253, 253, 250, 182,   0,   0,   0,   0,   0,   0,   0,   0],\n",
            "        [  0,   0,   0,   0,   0,   0,   0,   0,   0,   0,  24, 114, 221, 253,\n",
            "         253, 253, 253, 201,  78,   0,   0,   0,   0,   0,   0,   0,   0,   0],\n",
            "        [  0,   0,   0,   0,   0,   0,   0,   0,  23,  66, 213, 253, 253, 253,\n",
            "         253, 198,  81,   2,   0,   0,   0,   0,   0,   0,   0,   0,   0,   0],\n",
            "        [  0,   0,   0,   0,   0,   0,  18, 171, 219, 253, 253, 253, 253, 195,\n",
            "          80,   9,   0,   0,   0,   0,   0,   0,   0,   0,   0,   0,   0,   0],\n",
            "        [  0,   0,   0,   0,  55, 172, 226, 253, 253, 253, 253, 244, 133,  11,\n",
            "           0,   0,   0,   0,   0,   0,   0,   0,   0,   0,   0,   0,   0,   0],\n",
            "        [  0,   0,   0,   0, 136, 253, 253, 253, 212, 135, 132,  16,   0,   0,\n",
            "           0,   0,   0,   0,   0,   0,   0,   0,   0,   0,   0,   0,   0,   0],\n",
            "        [  0,   0,   0,   0,   0,   0,   0,   0,   0,   0,   0,   0,   0,   0,\n",
            "           0,   0,   0,   0,   0,   0,   0,   0,   0,   0,   0,   0,   0,   0],\n",
            "        [  0,   0,   0,   0,   0,   0,   0,   0,   0,   0,   0,   0,   0,   0,\n",
            "           0,   0,   0,   0,   0,   0,   0,   0,   0,   0,   0,   0,   0,   0],\n",
            "        [  0,   0,   0,   0,   0,   0,   0,   0,   0,   0,   0,   0,   0,   0,\n",
            "           0,   0,   0,   0,   0,   0,   0,   0,   0,   0,   0,   0,   0,   0]],\n",
            "       dtype=torch.uint8) tensor(5)\n",
            "#+end_example"
          ],
          "name": "stdout"
        }
      ]
    },
    {
      "cell_type": "markdown",
      "metadata": {
        "id": "a1vQEl9A2v7X"
      },
      "source": [
        "So, the data is a 60000x28x28 tensor, containing integer values from 0\n",
        "to 255, and the output is a 60000 element tensor encoding the true\n",
        "label in exactly the format needed for CrossEntropyLoss (and\n",
        "corresponding to the real digit value). Lets view some images:\n",
        "\n"
      ]
    },
    {
      "cell_type": "code",
      "metadata": {
        "id": "vEFiPIxs2v7X",
        "outputId": "c99bd79e-7e1f-4d88-dadf-909a9b283657"
      },
      "source": [
        "for i in range(8):\n",
        "  plt.subplot(2,4,i+1)\n",
        "  plt.imshow(train_.data[i], cmap='gray')\n",
        "print(train_.targets[:8])"
      ],
      "execution_count": null,
      "outputs": [
        {
          "output_type": "stream",
          "text": [
            "tensor([5, 0, 4, 1, 9, 2, 1, 3])"
          ],
          "name": "stdout"
        },
        {
          "output_type": "display_data",
          "data": {
            "image/png": "[encoded data removed]",
            "text/plain": [
              "<matplotlib.figure.Figure>"
            ]
          },
          "metadata": {
            "tags": []
          }
        }
      ]
    },
    {
      "cell_type": "markdown",
      "metadata": {
        "id": "YBAFrRy_2v7Y"
      },
      "source": [
        "We can use another facility of pytorch to create a `DataLoader`, which\n",
        "wraps up our minibatching code from the previous section.\n",
        "\n"
      ]
    },
    {
      "cell_type": "code",
      "metadata": {
        "id": "j1qf6c182v7Y"
      },
      "source": [
        "train = torch.utils.data.DataLoader(train_, batch_size=64)\n",
        "test = torch.utils.data.DataLoader(test_, batch_size=64)"
      ],
      "execution_count": null,
      "outputs": []
    },
    {
      "cell_type": "markdown",
      "metadata": {
        "id": "aWtAQbDD2v7a"
      },
      "source": [
        "It makes it easier to do the training loop.\n",
        "\n"
      ]
    },
    {
      "cell_type": "code",
      "metadata": {
        "id": "d98RuJS22v7b",
        "outputId": "5a2c059b-5263-40ab-f43e-f75bcb9a4fa0"
      },
      "source": [
        "for x, y in train:\n",
        "    print(x.shape, y.shape)\n",
        "    break"
      ],
      "execution_count": null,
      "outputs": [
        {
          "output_type": "stream",
          "text": [
            "torch.Size([64, 1, 28, 28]) torch.Size([64])"
          ],
          "name": "stdout"
        }
      ]
    },
    {
      "cell_type": "markdown",
      "metadata": {
        "id": "CXP4yIih2v7c"
      },
      "source": [
        "### Convolutional Filter in PyTorch\n",
        "\n"
      ]
    },
    {
      "cell_type": "markdown",
      "metadata": {
        "id": "W00SKmzX2v7d"
      },
      "source": [
        "Notice that x is actually given as a 4D tensor. The axis of length 1\n",
        "is for image **channels**. If we had a color image, it would have length\n",
        "3, after we pass it through a convolutional layer, it has # channels\n",
        "== # filters in the layer.\n",
        "\n",
        "Convolutional filters in pytorch are accessed with\n",
        "`nn.Conv2d(nchannels_in, nchannels_out, filter_size)`.  Filter size\n",
        "can be a scalar, in which case the filter is square, or you can pass a\n",
        "2-tuple to specify the width and height.\n",
        "\n"
      ]
    },
    {
      "cell_type": "code",
      "metadata": {
        "id": "AL8M9yp82v7d",
        "outputId": "34b2faee-6c47-4ab7-a7e4-acb58145b1ec"
      },
      "source": [
        "conv = nn.Conv2d(1, 5, 7)\n",
        "conv(x).shape"
      ],
      "execution_count": null,
      "outputs": [
        {
          "output_type": "stream",
          "text": [
            "torch.Size([64, 5, 22, 22])"
          ],
          "name": "stdout"
        }
      ]
    },
    {
      "cell_type": "markdown",
      "metadata": {
        "id": "-LgmSZDr2v7e"
      },
      "source": [
        "No filter padding, so it has reduced the image size. The `padding`\n",
        "optional argument can be used to pad the image.\n",
        "\n"
      ]
    },
    {
      "cell_type": "markdown",
      "metadata": {
        "id": "X1pfv3Di2v7f"
      },
      "source": [
        "### A Convolutional Network\n",
        "\n"
      ]
    },
    {
      "cell_type": "markdown",
      "metadata": {
        "id": "lFDRK7V02v7g"
      },
      "source": [
        "Lets make a network. It consists of a few layers of convolutions of\n",
        "varying sizes, then, we will turn the filter image into a 1d array,\n",
        "and process it through a fully-connected hidden layer. We use relu\n",
        "instead of sigmoid here. relu(x) = 0 for negative x and relu(x) = x\n",
        "for postive x, it tends to be better for network, since it is harder\n",
        "to saturate, and shut a node down.\n",
        "\n"
      ]
    },
    {
      "cell_type": "code",
      "metadata": {
        "id": "elXVK-cB2v7g",
        "outputId": "141dd13f-abd2-4106-844d-f548dd5c80b1"
      },
      "source": [
        "class ConvNet(nn.Module):\n",
        "    def __init__(self):\n",
        "        super(ConvNet, self).__init__()\n",
        "        self.c1 = nn.Conv2d(1, 5, 7) # 28x28 -> 22x22\n",
        "        self.c2 = nn.Conv2d(5, 10, 5) # 22x22 -> 18x18\n",
        "        self.c3 = nn.Conv2d(10, 5, 3) # 18x18 -> 16x16\n",
        "        self.fc1 = nn.Linear(16*16*5,100) # 5 channels of 16x16 images\n",
        "        self.fc2 = nn.Linear(100,10)\n",
        "    def forward(self, x):\n",
        "        x = torch.relu(self.c1(x))\n",
        "        x = torch.relu(self.c2(x))\n",
        "        x = torch.relu(self.c3(x))\n",
        "        # convert the 5x16x16 image into a 1d array with 5*16*16\n",
        "        # elements, i.e. \"flatten\" it\n",
        "        x = x.reshape(x.shape[0],-1)\n",
        "        x = torch.relu(self.fc1(x))\n",
        "        x = self.fc2(x)\n",
        "        return x\n",
        "\n",
        "net = ConvNet()\n",
        "net(x).shape"
      ],
      "execution_count": null,
      "outputs": [
        {
          "output_type": "stream",
          "text": [
            "torch.Size([64, 10])"
          ],
          "name": "stdout"
        }
      ]
    },
    {
      "cell_type": "markdown",
      "metadata": {
        "id": "W4NibCLu2v7i"
      },
      "source": [
        "### A More Complete Training Loop\n",
        "\n"
      ]
    },
    {
      "cell_type": "markdown",
      "metadata": {
        "id": "I7afoN2s2v7j"
      },
      "source": [
        "-   Since we have a testing sample this time, lets instrument our training loop a little\n",
        "-   We keep track of the running average of the loss / datapoint, and\n",
        "    after 300 minibatches we print out the running average loss, as well\n",
        "    as the average loss over the testing dataset\n",
        "-   We can check for overtraining (the test set will start to diverge\n",
        "    from the training set)\n",
        "    -   Here, its a bit bumpy to tell, but you can see the training loss\n",
        "        gets lower than the testing, indicating a possible saturation\n",
        "        point for this model\n",
        "-   We also only put the data on the GPU as needed\n",
        "    -   GPU memory is a limited resource, we need to keep the network\n",
        "        parameters and the data, so can't put the whole dataset on the GPU\n",
        "        this time (unless google gives you an A100 or something&#x2026;)\n",
        "\n"
      ]
    },
    {
      "cell_type": "code",
      "metadata": {
        "id": "xTtpsMs-2v7j",
        "outputId": "1c2708cf-26ee-4ca4-8eb0-188f9b7deed7"
      },
      "source": [
        "d = torch.device('cuda')\n",
        "net = ConvNet()\n",
        "net.to(d)\n",
        "\n",
        "optim = torch.optim.Adam(net.parameters(), lr=0.002)\n",
        "lossf = torch.nn.CrossEntropyLoss()\n",
        "for epoch in range(5):\n",
        "  tl,tn = 0.,0.\n",
        "  for ii, (i, o) in enumerate(train):\n",
        "    i,o = i.to(d), o.to(d)\n",
        "    optim.zero_grad()\n",
        "    loss = lossf(net(i), o)\n",
        "    loss.backward()\n",
        "    optim.step()\n",
        "    tl+=loss.item()*i.size(0)\n",
        "    tn+=i.size(0)\n",
        "    if ii % 300 == 0:\n",
        "      print(f\"epoch {epoch} batch {ii:03d}\", end=' ')\n",
        "      print(f\"train: {tl/tn:5f}\", end=' ')\n",
        "      tl,tn = 0.,0.\n",
        "      for i, o in test:\n",
        "        i,o = i.to(d), o.to(d)\n",
        "        loss = lossf(net(i), o)\n",
        "        tl+=loss.item()*i.size(0)\n",
        "        tn+=i.size(0)\n",
        "      print(f\"test: {tl/tn:5f}\")\n",
        "      tl,tn = 0.,0."
      ],
      "execution_count": null,
      "outputs": [
        {
          "output_type": "stream",
          "text": [
            "#+begin_example\n",
            "epoch 0 batch 000 train: 2.305417 test: 2.302866\n",
            "epoch 0 batch 300 train: 0.432548 test: 0.157276\n",
            "epoch 0 batch 600 train: 0.159395 test: 0.151761\n",
            "epoch 0 batch 900 train: 0.121112 test: 0.081811\n",
            "epoch 1 batch 000 train: 0.043302 test: 0.092392\n",
            "epoch 1 batch 300 train: 0.088562 test: 0.067064\n",
            "epoch 1 batch 600 train: 0.070742 test: 0.082866\n",
            "epoch 1 batch 900 train: 0.065900 test: 0.064576\n",
            "epoch 2 batch 000 train: 0.018246 test: 0.077515\n",
            "epoch 2 batch 300 train: 0.057674 test: 0.067060\n",
            "epoch 2 batch 600 train: 0.049775 test: 0.074788\n",
            "epoch 2 batch 900 train: 0.053226 test: 0.051444\n",
            "epoch 3 batch 000 train: 0.013761 test: 0.058822\n",
            "epoch 3 batch 300 train: 0.043579 test: 0.062349\n",
            "epoch 3 batch 600 train: 0.040766 test: 0.056704\n",
            "epoch 3 batch 900 train: 0.035504 test: 0.052557\n",
            "epoch 4 batch 000 train: 0.041700 test: 0.048617\n",
            "epoch 4 batch 300 train: 0.038992 test: 0.074224\n",
            "epoch 4 batch 600 train: 0.033564 test: 0.068567\n",
            "epoch 4 batch 900 train: 0.031579 test: 0.051940\n",
            "#+end_example"
          ],
          "name": "stdout"
        }
      ]
    },
    {
      "cell_type": "markdown",
      "metadata": {
        "id": "AyvH1XNX2v7l"
      },
      "source": [
        "The model starts with a loss of -2.3, and saturates at about 0.05,\n",
        "this means that the model is, on average, giving the correct item a\n",
        "probability of 0.10 (10 categories, so this is equivalent to\n",
        "completely random) at the beginning, and giving the correct item an\n",
        "output of 0.95 at the end of training.\n",
        "\n"
      ]
    },
    {
      "cell_type": "code",
      "metadata": {
        "id": "2C6M7esn2v7l",
        "outputId": "005d3e22-80fc-4e0b-bdf6-8d08123d229a"
      },
      "source": [
        "np.exp(-2.3), np.exp(-0.05)"
      ],
      "execution_count": null,
      "outputs": [
        {
          "output_type": "stream",
          "text": [
            "| 0.10025884372280375 | 0.951229424500714 |"
          ],
          "name": "stdout"
        }
      ]
    },
    {
      "cell_type": "markdown",
      "metadata": {
        "id": "sctFCB4C2v7n"
      },
      "source": [
        "Lets check the accuracy on the test set. In this case, we won't be\n",
        "able to compute all the predictions in one pass (we would need to fit\n",
        "the whole test set on the GPU!).\n",
        "\n"
      ]
    },
    {
      "cell_type": "code",
      "metadata": {
        "id": "b7SUjUW72v7n",
        "outputId": "bf84327b-540b-42b9-8a5d-db17bfcd62f4"
      },
      "source": [
        "correct, tot = 0, 0\n",
        "for x, y in test:\n",
        "    x, y = x.to(d), y.to(d)\n",
        "    prediction = net(x)\n",
        "    _, prediction_y = torch.max(prediction,1) # returns (the max value, position of the max value)\n",
        "    correct += torch.sum(prediction_y==y)\n",
        "    tot += len(y)\n",
        "print(f\"Acc.: {correct/float(tot):.3f}\")"
      ],
      "execution_count": null,
      "outputs": [
        {
          "output_type": "stream",
          "text": [
            "Acc.: 0.983"
          ],
          "name": "stdout"
        }
      ]
    },
    {
      "cell_type": "markdown",
      "metadata": {
        "id": "zZcR9zCz2v7p"
      },
      "source": [
        "Exercises:\n",
        "\n",
        "-   Compare the speed of the network on and off the GPU\n",
        "    -   Convolutional layers are the reason we need beefy GPUs for deep learning!\n",
        "-   Modify the training loop to keep track of the average losses. Plot\n",
        "    loss vs epoch for testing and training, do they keep up with each\n",
        "    other?\n",
        "-   Draw the confusion matrix for the testing set, like we did for the\n",
        "    irises. Are there particular combinations its misclassifying?\n",
        "-   Find examples the network is misclassifying and see what they look\n",
        "    like. Do you think you would have classified them correctly?\n",
        "-   Try adding more layers to the network, whats the best accuracy you can get?\n",
        "-   With too deep a network you'll find it hard to stop from\n",
        "    overtraining, try adding some regularization layers, such as\n",
        "    dropout, illustrated below, or `nn.BatchNorm2d`\n",
        "    -   Dropout helps by only allowing part of the network to see the\n",
        "        datapoint each training, so effectively you're training an\n",
        "        ensemble of networks\n",
        "    -   BatchNorm smooths out the distribution of the values passed\n",
        "        between layers as all the nodes update their weights, its\n",
        "        generally always used these days (or something similar) due to how\n",
        "        much it speeds up training large networks\n",
        "    -   With these layers you need to put the network into training or\n",
        "        evaluation mode. Use `net.train()`, and `net.eval()` respectively\n",
        "-   Torchvision also comes with classic deep learning networks, like VGG\n",
        "    and ResNet. Search the documentation and setup one of these networks\n",
        "    to solve the MNIST classification problem. You might need to change\n",
        "    the final layer of the network in order to do this.\n",
        "-   Similarly, it comes with a variety of classic datasets. Try building\n",
        "    a network to classify, for example, CIFAR10 (small color images in\n",
        "    the categories: airplane, automobile, bird, cat, deer, dog, frog,\n",
        "    horse, ship, truck)\n",
        "\n"
      ]
    },
    {
      "cell_type": "code",
      "metadata": {
        "id": "dERTY9Ak2v7p",
        "outputId": "45705123-180d-4394-ebd3-b530e48126cb"
      },
      "source": [
        "drop = nn.Dropout(0.5)\n",
        "print(torch.ones(5))\n",
        "print(drop(torch.ones(5)))"
      ],
      "execution_count": null,
      "outputs": [
        {
          "output_type": "stream",
          "text": [
            "tensor([1., 1., 1., 1., 1.])\n",
            "tensor([0., 2., 0., 2., 2.])"
          ],
          "name": "stdout"
        }
      ]
    },
    {
      "cell_type": "markdown",
      "metadata": {
        "id": "H7fpCDLz2v7r"
      },
      "source": [
        "Note that the dropout compensates for the nodes it sets to zero by\n",
        "increasing the value of the remaining non-zero nodes, so the\n",
        "downstream node will see values of the same order of magnitude with or\n",
        "without the dropout.\n",
        "\n"
      ]
    },
    {
      "cell_type": "markdown",
      "metadata": {
        "id": "1jfra1xY2v7r"
      },
      "source": [
        "## GAN\n",
        "\n"
      ]
    },
    {
      "cell_type": "markdown",
      "metadata": {
        "id": "sGsKSLm92v7s"
      },
      "source": [
        "The discriminator network can just be our network from before, with a\n",
        "single output: is the image real or fake?\n",
        "\n"
      ]
    },
    {
      "cell_type": "code",
      "metadata": {
        "id": "cf_FXiE32v7s"
      },
      "source": [
        "train = torch.utils.data.DataLoader(train_, batch_size=32)"
      ],
      "execution_count": null,
      "outputs": []
    },
    {
      "cell_type": "code",
      "metadata": {
        "id": "gBT55jFm2v7u",
        "outputId": "8d9b3e88-97b7-4167-e313-49644a3ea428"
      },
      "source": [
        "class Discr(nn.Module):\n",
        "    def __init__(self):\n",
        "        super(Discr, self).__init__()\n",
        "        self.c1 = nn.Conv2d(1, 16, 7) # 28x28 -> 22x22\n",
        "        self.c2 = nn.Conv2d(16, 64, 5) # 22x22 -> 18x18\n",
        "        self.c3 = nn.Conv2d(64, 8, 3) # 18x18 -> 16x16\n",
        "        self.fc1 = nn.Linear(16*16*8,100) # 8 channels of 16x16 images\n",
        "        self.fc2 = nn.Linear(100,1)\n",
        "        self.drop = nn.Dropout(0.5)\n",
        "    def forward(self, x):\n",
        "        x = torch.relu(self.drop(self.c1(x)))\n",
        "        x = torch.relu(self.drop(self.c2(x)))\n",
        "        x = torch.relu(self.drop(self.c3(x)))\n",
        "        # convert the 5x16x16 image into a 1d array with 5*16*16\n",
        "        # elements, i.e. \"flatten\" it\n",
        "        x = x.reshape(x.shape[0],-1)\n",
        "        x = torch.relu(self.fc1(x))\n",
        "        x = torch.sigmoid(self.fc2(x))\n",
        "        return x\n",
        "\n",
        "dis = Discr().cuda()\n",
        "print(dis(torch.randn(1,1,28,28).cuda()).shape)"
      ],
      "execution_count": null,
      "outputs": [
        {
          "output_type": "stream",
          "text": [
            "torch.Size([1, 1])"
          ],
          "name": "stdout"
        }
      ]
    },
    {
      "cell_type": "markdown",
      "metadata": {
        "id": "AbwyxTnO2v7w"
      },
      "source": [
        "### Generator\n",
        "\n"
      ]
    },
    {
      "cell_type": "markdown",
      "metadata": {
        "id": "Ff4Dio752v7x"
      },
      "source": [
        "Here is the more interesting part. We want to take random noise, and\n",
        "then output an image. We need to basically do the inverse of\n",
        "convolving, that is, we take a image and pass it to the next layer\n",
        "**adding** features based on the input, rather than searching for\n",
        "them. We can use a `ConvTranspose2d` layer to do this\n",
        "\n"
      ]
    },
    {
      "cell_type": "code",
      "metadata": {
        "id": "Q7MCJFdx2v7y",
        "outputId": "b3d9f355-3cfd-4e44-db2e-07dc17d0c022"
      },
      "source": [
        "class Gen(nn.Module):\n",
        "  def __init__(self, input_size=100):\n",
        "    super(Gen, self).__init__()\n",
        "    self.input_size = input_size\n",
        "    self.fc1 = nn.Linear(self.input_size, 16*16*8)\n",
        "    self.cc1 = nn.ConvTranspose2d(8,64,3) # 64x18x18\n",
        "    self.bn1 = nn.BatchNorm2d(64)\n",
        "    self.cc2 = nn.ConvTranspose2d(64,16,5) # 16x22x22\n",
        "    self.bn2 = nn.BatchNorm2d(16)\n",
        "    self.cc3 = nn.ConvTranspose2d(16,1,7) # 1x28x28\n",
        "  def forward(self, x):\n",
        "    x = torch.relu(self.fc1(x))\n",
        "    x = x.view(-1,8,16,16)\n",
        "    x = torch.relu(self.bn1(self.cc1(x)))\n",
        "    x = torch.relu(self.bn2(self.cc2(x)))\n",
        "    x = torch.sigmoid(self.cc3(x))\n",
        "    return x\n",
        "\n",
        "gen = Gen().cuda()\n",
        "dis(gen(torch.randn(10,100).cuda())).shape"
      ],
      "execution_count": null,
      "outputs": [
        {
          "output_type": "stream",
          "text": [
            "torch.Size([10, 1])"
          ],
          "name": "stdout"
        }
      ]
    },
    {
      "cell_type": "markdown",
      "metadata": {
        "id": "NjjwAEa82v7z"
      },
      "source": [
        "### Training Loop\n",
        "\n"
      ]
    },
    {
      "cell_type": "markdown",
      "metadata": {
        "id": "9FDG597U2v7z"
      },
      "source": [
        "Notice we put dropout in the discriminator (its better to have a\n",
        "smaller capacity discriminator, since it tends to be easier to train\n",
        "the discriminator than the generator), and BatchNorm in the\n",
        "generator. We want to speed up the generator training and control the\n",
        "discriminator training. GANs are delicate!\n",
        "\n",
        "We need to train both the discriminator and the generator. We set up\n",
        "separate optimizers for each.\n",
        "\n",
        "Our training loop starts by outputting sample images the generator is\n",
        "currently creating. We use the same latent vectors each time, so we\n",
        "can see the evolution of the same vector.\n",
        "\n",
        "In the loop, we update the discriminator by converging the output\n",
        "toward 1 for real images, and toward 0 for generated images.\n",
        "\n",
        "We then update the generator, by passing the generated images through\n",
        "the discriminator, and trying to send the value of the discriminator\n",
        "toward 1 (by changing the **generator** weights, the discriminator\n",
        "weights are fixed during this update).\n",
        "\n",
        "We use `requires_grad` to turn on/off the caching of values, which can\n",
        "speed up the training (we should/could have done this in the training\n",
        "phase of the previous classification task also).\n",
        "\n",
        "We keep track of the average loss for the discriminator and generator\n",
        "updates separately and record them at the end of each epoch. This is\n",
        "particularly important here as GANs are prone to collapse: one of the\n",
        "generator or discriminator becomes too good, and the other no longer\n",
        "trains. This is usually seen by one of the losses going to 0, and the\n",
        "other diverging. A good training run should have the generator and\n",
        "discriminator fighting with each other, and small fluctuations in each\n",
        "loss.  Another thing to look out for is **mode collapse**: this is where\n",
        "the generator only outputs a single image, effectively ignoring the\n",
        "random noise input. If all the images being produced in our test step\n",
        "are the same, we probably have mode collapse.\n",
        "\n"
      ]
    },
    {
      "cell_type": "code",
      "metadata": {
        "id": "kccobezY2v7z",
        "outputId": "da358860-6f2e-4d35-95e3-1c78c52a5d23"
      },
      "source": [
        "g_optim = torch.optim.Adam(gen.parameters(), lr=2e-4)\n",
        "d_optim = torch.optim.Adam(dis.parameters(), lr=2e-4)\n",
        "lossf = nn.BCELoss()\n",
        "\n",
        "gen.train(); dis.train()\n",
        "# keep the input latent vectors for images the same in each epoch\n",
        "noise = torch.randn((25,gen.input_size)).cuda()\n",
        "gloss, dloss = [], []\n",
        "for epoch in range(25):\n",
        "  print(f\"--- Epoch {epoch} {datetime.datetime.now().strftime('%H:%M:%S')}\")\n",
        "  gen.eval()\n",
        "  im = gen(noise).view(-1,28,28)\n",
        "  plt.clf()\n",
        "  plt.gcf().set_size_inches(25, 25)\n",
        "  for i in range(25):\n",
        "    plt.subplot(5,5,i+1)\n",
        "    plt.imshow(im[i].detach().cpu(), cmap='gray')\n",
        "  plt.savefig(f'images/fc_{epoch:03d}.png')\n",
        "  plt.clf()\n",
        "  gen.train()\n",
        "  gl, gn = 0., 0.\n",
        "  dl, dn = 0., 0.\n",
        "  for ii, (i, o) in enumerate(train):\n",
        "    i, o = i.cuda(), o.cuda()\n",
        "    ones = torch.tensor([1.]*i.size(0)).view(-1,1).cuda()\n",
        "    zeros = torch.tensor([0.]*i.size(0)).view(-1,1).cuda()\n",
        "    randn = lambda: torch.randn(i.size(0), gen.input_size).cuda()\n",
        "    # update dis, try to distinguish real (from the MNIST dataset)\n",
        "    # from fake (from gen) images\n",
        "    d_optim.zero_grad()\n",
        "    gen.requires_grad=False\n",
        "    dis.requires_grad=True\n",
        "    loss = lossf(dis(i), ones)\n",
        "    loss.backward()\n",
        "    dl += loss; dn += i.size(0)\n",
        "    loss = lossf(dis(gen(randn())), zeros)\n",
        "    loss.backward()\n",
        "    dl += loss; dn += i.size(0)\n",
        "    d_optim.step()\n",
        "    \n",
        "    # update gen, try to fool the dis network by driving its output on\n",
        "    # fake images toward 1 (by only changing the gen network)\n",
        "    g_optim.zero_grad()\n",
        "    dis.requires_grad=False\n",
        "    gen.requires_grad=True\n",
        "    loss = lossf(dis(gen(randn())), ones)\n",
        "    loss.backward()\n",
        "    gl += loss; gn += i.size(0)\n",
        "    loss = lossf(dis(gen(randn())), ones)\n",
        "    loss.backward()\n",
        "    gl += loss; gn += i.size(0)\n",
        "    g_optim.step()\n",
        "    \n",
        "  print(f\"dis: {(dl/dn).item():.3f} gen: {(gl/gn).item():.3f}\")\n",
        "  gloss.append((gl/gn).item())\n",
        "  dloss.append((dl/dn).item())\n",
        "\n",
        "print(\"Done\")"
      ],
      "execution_count": null,
      "outputs": [
        {
          "output_type": "stream",
          "text": [
            "#+begin_example\n",
            "--- Epoch 0 20:22:27\n",
            "dis: 0.012 gen: 0.064\n",
            "--- Epoch 1 20:22:52\n",
            "dis: 0.015 gen: 0.045\n",
            "--- Epoch 2 20:23:17\n",
            "dis: 0.015 gen: 0.042\n",
            "--- Epoch 3 20:23:42\n",
            "dis: 0.015 gen: 0.042\n",
            "--- Epoch 4 20:24:07\n",
            "dis: 0.015 gen: 0.044\n",
            "--- Epoch 5 20:24:32\n",
            "dis: 0.014 gen: 0.046\n",
            "--- Epoch 6 20:24:58\n",
            "dis: 0.014 gen: 0.047\n",
            "--- Epoch 7 20:25:23\n",
            "dis: 0.014 gen: 0.049\n",
            "--- Epoch 8 20:25:48\n",
            "dis: 0.014 gen: 0.050\n",
            "--- Epoch 9 20:26:14\n",
            "dis: 0.013 gen: 0.052\n",
            "--- Epoch 10 20:26:38\n",
            "dis: 0.013 gen: 0.052\n",
            "--- Epoch 11 20:27:03\n",
            "dis: 0.013 gen: 0.053\n",
            "--- Epoch 12 20:27:29\n",
            "dis: 0.013 gen: 0.053\n",
            "--- Epoch 13 20:27:54\n",
            "dis: 0.013 gen: 0.053\n",
            "--- Epoch 14 20:28:19\n",
            "dis: 0.013 gen: 0.053\n",
            "--- Epoch 15 20:28:44\n",
            "dis: 0.013 gen: 0.052\n",
            "--- Epoch 16 20:29:09\n",
            "dis: 0.013 gen: 0.052\n",
            "--- Epoch 17 20:29:34\n",
            "dis: 0.013 gen: 0.051\n",
            "--- Epoch 18 20:29:59\n",
            "dis: 0.013 gen: 0.051\n",
            "--- Epoch 19 20:30:25\n",
            "dis: 0.014 gen: 0.050\n",
            "--- Epoch 20 20:30:50\n",
            "dis: 0.014 gen: 0.050\n",
            "--- Epoch 21 20:31:15\n",
            "dis: 0.014 gen: 0.049\n",
            "--- Epoch 22 20:31:39\n",
            "dis: 0.014 gen: 0.049\n",
            "--- Epoch 23 20:32:02\n",
            "dis: 0.014 gen: 0.049\n",
            "--- Epoch 24 20:32:25\n",
            "dis: 0.014 gen: 0.049\n",
            "Done\n",
            "#+end_example\n",
            "<Figure size 1800x1800 with 0 Axes>"
          ],
          "name": "stdout"
        }
      ]
    },
    {
      "cell_type": "markdown",
      "metadata": {
        "id": "WNuCzbxM2v72"
      },
      "source": [
        "Images we save can be displayed in colab with code like this:\n",
        "\n"
      ]
    },
    {
      "cell_type": "code",
      "metadata": {
        "id": "SZXDhrOJ2v72"
      },
      "source": [
        "from IPython.display import Image\n",
        "Image(filename='images/fc_004.png')"
      ],
      "execution_count": null,
      "outputs": []
    },
    {
      "cell_type": "markdown",
      "metadata": {
        "id": "oqdsfgp42v73"
      },
      "source": [
        "Example images over epochs:\n",
        "\n",
        "Epoch 0:\n",
        "![img](https://github.com/watson-ij/yonsei-pytorch-tute-2020/blob/master/images/fc_000.png?raw=1)\n",
        "Epoch 1:\n",
        "![img](https://github.com/watson-ij/yonsei-pytorch-tute-2020/blob/master/images/fc_001.png?raw=1)\n",
        "Epoch 2:\n",
        "![img](https://github.com/watson-ij/yonsei-pytorch-tute-2020/blob/master/images/fc_002.png?raw=1)\n",
        "Epoch 3:\n",
        "![img](https://github.com/watson-ij/yonsei-pytorch-tute-2020/blob/master/images/fc_003.png?raw=1)\n",
        "Epoch 5:\n",
        "![img](https://github.com/watson-ij/yonsei-pytorch-tute-2020/blob/master/images/fc_005.png?raw=1)\n",
        "Epoch 10:\n",
        "![img](https://github.com/watson-ij/yonsei-pytorch-tute-2020/blob/master/images/fc_010.png?raw=1)\n",
        "Epoch 24:\n",
        "![img](https://github.com/watson-ij/yonsei-pytorch-tute-2020/blob/master/images/fc_024.png?raw=1)\n",
        "\n",
        "Exercises:\n",
        "\n",
        "-   The training loop is sparsely instrumented in this case, so it can\n",
        "    take a while to see whats going on. This can be a problem if the\n",
        "    training collapses (i.e. it will waste lots of time). Try moving the\n",
        "    loss output inside the batch loop, and output every few hundred\n",
        "    batches\n",
        "-   In this case, using batchnorm on the generator will greatly\n",
        "    regularize and speed up the training.  What happens if you remove\n",
        "    the normalization? [when I tried, I saw mode collapse]\n",
        "-   Try adding more or fewer layers, how does it affect the speed and\n",
        "    quality of generation?\n",
        "\n"
      ]
    },
    {
      "cell_type": "markdown",
      "metadata": {
        "id": "seq23HoS2v73"
      },
      "source": [
        "## Complete Examples\n",
        "\n"
      ]
    },
    {
      "cell_type": "markdown",
      "metadata": {
        "id": "QTuMSc4K2v73"
      },
      "source": [
        "### Iris Classification with a Simple NN\n",
        "\n"
      ]
    },
    {
      "cell_type": "code",
      "metadata": {
        "id": "JM1EtW-r2v74",
        "outputId": "9593c346-6538-4cb4-9f72-b85636ec2347"
      },
      "source": [
        "import seaborn as sns\n",
        "import torch as th\n",
        "import torch.nn as nn\n",
        "import torch.optim as optim\n",
        "\n",
        "iris = sns.load_dataset(\"iris\")\n",
        "\n",
        "plot = sns.pairplot(iris, hue=\"species\")\n",
        "plot.savefig('iris.png')\n",
        "\n",
        "# A simple feedforward network in pytorch\n",
        "class MyNet(nn.Module):\n",
        "    def __init__(self):\n",
        "        super(MyNet, self).__init__()\n",
        "        self.fc1 = nn.Linear(4,128) # fc=fully-connected\n",
        "        self.fc2 = nn.Linear(128,3) # 3 possible outputs\n",
        "    def forward(self, x):\n",
        "        x = torch.sigmoid(self.fc1(x))\n",
        "        x = self.fc2(x)\n",
        "        return x\n",
        "\n",
        "net = MyNet()\n",
        "variables = iris.values[:, :4]\n",
        "species_ = iris.values[:, 4]\n",
        "\n",
        "smap = {'setosa' : 0, 'versicolor' : 1, 'virginica' : 2}\n",
        "species = np.array(list(smap[s] for s in species_))\n",
        "X, Y = torch.tensor(variables.astype('float32')), torch.tensor(species)\n",
        "\n",
        "# A basic (uninstrumented) pytorch training loop\n",
        "n_epochs, minibatch_size = 15, 16\n",
        "optimizer = optim.SGD(net.parameters(), lr=0.01)\n",
        "loss_fn = torch.nn.CrossEntropyLoss()\n",
        "optimizer.zero_grad()\n",
        "for _ in range(n_epochs):\n",
        "  for idx in range(0, len(X), minibatch_size):\n",
        "    optimizer.zero_grad()\n",
        "    prediction = net(X[idx:idx+minibatch_size])\n",
        "    loss = loss_fn(prediction, Y[idx:idx+minibatch_size])\n",
        "    loss.backward()\n",
        "    optimizer.step()\n",
        "\n",
        "prediction=net(X)\n",
        "_, prediction_y = torch.max(prediction,1) # returns (the max value, position of the max value)\n",
        "print(torch.sum(prediction_y==Y) / float(len(Y))) # sum the number we got correct\n",
        "\n",
        "confusion = torch.zeros(3, 3)\n",
        "for i, j in zip(net(X).max(1)[1], Y): confusion[i,j] += 1\n",
        "plt.matshow(confusion)\n",
        "plt.colorbar()"
      ],
      "execution_count": null,
      "outputs": [
        {
          "output_type": "stream",
          "text": [
            "tensor(0.6667)\n",
            "<matplotlib.colorbar.Colorbar at 0x7fe7088a90d0>"
          ],
          "name": "stdout"
        },
        {
          "output_type": "display_data",
          "data": {
            "image/png": "[encoded data removed]",
            "text/plain": [
              "<matplotlib.figure.Figure>"
            ]
          },
          "metadata": {
            "tags": []
          }
        },
        {
          "output_type": "display_data",
          "data": {
            "image/png": "[encoded data removed]",
            "text/plain": [
              "<matplotlib.figure.Figure>"
            ]
          },
          "metadata": {
            "tags": []
          }
        }
      ]
    },
    {
      "cell_type": "markdown",
      "metadata": {
        "id": "vzPFLFDa2v76"
      },
      "source": [
        "### MNIST Classification with a CNN\n",
        "\n"
      ]
    },
    {
      "cell_type": "markdown",
      "metadata": {
        "id": "YfY2HEYm2v76"
      },
      "source": [
        "Make sure you turn on the GPU in colab!\n",
        "\n"
      ]
    },
    {
      "cell_type": "code",
      "metadata": {
        "id": "2T1jdKAt2v77"
      },
      "source": [
        "import torch as th\n",
        "import torch.nn as nn\n",
        "import torch.optim as optim\n",
        "import torchvision\n",
        "\n",
        "train_ = torchvision.datasets.MNIST('/tmp', download=True, train=True, transform=torchvision.transforms.ToTensor())\n",
        "test_ = torchvision.datasets.MNIST('/tmp', download=True, train=False, transform=torchvision.transforms.ToTensor())\n",
        "train = torch.utils.data.DataLoader(train_, batch_size=64)\n",
        "test = torch.utils.data.DataLoader(test_, batch_size=64)\n",
        "\n",
        "class ConvNet(nn.Module):\n",
        "    def __init__(self):\n",
        "        super(ConvNet, self).__init__()\n",
        "        self.c1 = nn.Conv2d(1, 5, 7) # 28x28 -> 22x22\n",
        "        self.c2 = nn.Conv2d(5, 10, 5) # 22x22 -> 18x18\n",
        "        self.c3 = nn.Conv2d(10, 5, 3) # 18x18 -> 16x16\n",
        "        self.fc1 = nn.Linear(16*16*5,100) # 5 channels of 16x16 images\n",
        "        self.fc2 = nn.Linear(100,10)\n",
        "    def forward(self, x):\n",
        "        x = torch.relu(self.c1(x))\n",
        "        x = torch.relu(self.c2(x))\n",
        "        x = torch.relu(self.c3(x))\n",
        "        # convert the 5x16x16 image into a 1d array with 5*16*16\n",
        "        # elements, i.e. \"flatten\" it\n",
        "        x = x.reshape(x.shape[0],-1)\n",
        "        x = torch.relu(self.fc1(x))\n",
        "        x = self.fc2(x)\n",
        "        return x\n",
        "\n",
        "d = torch.device('cuda')\n",
        "net = ConvNet()\n",
        "net.to(d)\n",
        "\n",
        "# slightly more featureful training loop\n",
        "optim = torch.optim.Adam(net.parameters(), lr=0.002)\n",
        "lossf = torch.nn.CrossEntropyLoss()\n",
        "for epoch in range(5):\n",
        "  tl,tn = 0.,0.\n",
        "  for ii, (i, o) in enumerate(train):\n",
        "    optim.zero_grad()\n",
        "    loss = lossf(net(i.to(d)), o.to(d))\n",
        "    loss.backward()\n",
        "    optim.step()\n",
        "    tl += loss.item()*i.size(0) # loss returns the *avg.* loss\n",
        "    tn += i.size(0)\n",
        "    if ii % 300 == 0:\n",
        "      print(f\"epoch {epoch} batch {ii:03d}\", end=' ')\n",
        "      print(f\"train: {tl/tn:5f}\", end=' ')\n",
        "      tl,tn = 0.,0.\n",
        "      for i, o in test:\n",
        "        loss = lossf(net(i.to(d)), o.to(d))\n",
        "        tl += loss.item()*i.size(0)\n",
        "        tn += i.size(0)\n",
        "      print(f\"test: {tl/tn:5f}\")\n",
        "      tl,tn = 0.,0.\n",
        "\n",
        "correct, tot = 0, 0\n",
        "for x, y in test:\n",
        "    x, y = x.to(d), y.to(d)\n",
        "    prediction = net(x)\n",
        "    _, prediction_y = torch.max(prediction,1) # returns (the max value, position of the max value)\n",
        "    correct += torch.sum(prediction_y==y)\n",
        "    tot += len(y)\n",
        "print(f\"Acc.: {correct/float(tot):.3f}\")"
      ],
      "execution_count": null,
      "outputs": []
    },
    {
      "cell_type": "markdown",
      "metadata": {
        "id": "VMlQYerL2v78"
      },
      "source": [
        "### MNIST GAN\n",
        "\n"
      ]
    },
    {
      "cell_type": "code",
      "metadata": {
        "id": "G5BbTCeJ2v78",
        "outputId": "9a8f88e9-95aa-4afe-ea60-46ceb0724b04"
      },
      "source": [
        "import matplotlib.pyplot as plt\n",
        "import torch as th\n",
        "import torch.nn as nn\n",
        "import torch.optim as optim\n",
        "import torchvision\n",
        "import datetime\n",
        "import os\n",
        "\n",
        "train_ = torchvision.datasets.MNIST('/tmp', download=True, train=True, transform=torchvision.transforms.ToTensor())\n",
        "train = torch.utils.data.DataLoader(train_, batch_size=64)\n",
        "\n",
        "class Discr(nn.Module):\n",
        "    def __init__(self):\n",
        "        super(Discr, self).__init__()\n",
        "        self.c1 = nn.Conv2d(1, 16, 7) # 28x28 -> 22x22\n",
        "        self.c2 = nn.Conv2d(16, 64, 5) # 22x22 -> 18x18\n",
        "        self.c3 = nn.Conv2d(64, 8, 3) # 18x18 -> 16x16\n",
        "        self.fc1 = nn.Linear(16*16*8,100) # 8 channels of 16x16 images\n",
        "        self.fc2 = nn.Linear(100,1)\n",
        "        self.drop = nn.Dropout(0.5)\n",
        "    def forward(self, x):\n",
        "        x = torch.relu(self.drop(self.c1(x)))\n",
        "        x = torch.relu(self.drop(self.c2(x)))\n",
        "        x = torch.relu(self.drop(self.c3(x)))\n",
        "        # convert the 5x16x16 image into a 1d array with 5*16*16\n",
        "        # elements, i.e. \"flatten\" it\n",
        "        x = x.reshape(x.shape[0],-1)\n",
        "        x = torch.relu(self.fc1(x))\n",
        "        x = torch.sigmoid(self.fc2(x))\n",
        "        return x\n",
        "\n",
        "class Gen(nn.Module):\n",
        "  def __init__(self, input_size=100):\n",
        "    super(Gen, self).__init__()\n",
        "    self.input_size = input_size\n",
        "    self.fc1 = nn.Linear(self.input_size, 16*16*8)\n",
        "    self.cc1 = nn.ConvTranspose2d(8,64,3) # 64x18x18\n",
        "    self.bn1 = nn.BatchNorm2d(64)\n",
        "    self.cc2 = nn.ConvTranspose2d(64,16,5) # 16x22x22\n",
        "    self.bn2 = nn.BatchNorm2d(16)\n",
        "    self.cc3 = nn.ConvTranspose2d(16,1,7) # 1x28x28\n",
        "  def forward(self, x):\n",
        "    x = torch.relu(self.fc1(x))\n",
        "    x = x.view(-1,8,16,16)\n",
        "    x = torch.relu(self.bn1(self.cc1(x)))\n",
        "    x = torch.relu(self.bn2(self.cc2(x)))\n",
        "    x = torch.sigmoid(self.cc3(x))\n",
        "    return x\n",
        "\n",
        "gen = Gen().cuda()\n",
        "dis = Discr().cuda()\n",
        "\n",
        "\n",
        "g_optim = torch.optim.Adam(gen.parameters(), lr=2e-4)\n",
        "d_optim = torch.optim.Adam(dis.parameters(), lr=2e-4)\n",
        "lossf = nn.BCELoss()\n",
        "\n",
        "gen.train(); dis.train()\n",
        "# keep the input latent vectors for images the same in each epoch\n",
        "noise = torch.randn((25,gen.input_size)).cuda()\n",
        "gloss, dloss = [], []\n",
        "for epoch in range(25):\n",
        "  print(f\"--- Epoch {epoch} {datetime.datetime.now().strftime('%H:%M:%S')}\")\n",
        "  gen.eval()\n",
        "  im = gen(noise).view(-1,28,28)\n",
        "  plt.clf()\n",
        "  plt.gcf().set_size_inches(25, 25)\n",
        "  for i in range(25):\n",
        "    plt.subplot(5,5,i+1)\n",
        "    plt.imshow(im[i].detach().cpu(), cmap='gray')\n",
        "  os.system('mkdir -p images')\n",
        "  plt.savefig(f'images/fc_{epoch:03d}.png')\n",
        "  plt.clf()\n",
        "  gen.train()\n",
        "  gl, gn = 0., 0.\n",
        "  dl, dn = 0., 0.\n",
        "  for ii, (i, o) in enumerate(train):\n",
        "    i, o = i.cuda(), o.cuda()\n",
        "    ones = torch.tensor([1.]*i.size(0)).view(-1,1).cuda()\n",
        "    zeros = torch.tensor([0.]*i.size(0)).view(-1,1).cuda()\n",
        "    randn = lambda: torch.randn(i.size(0), gen.input_size).cuda()\n",
        "    # update dis\n",
        "    d_optim.zero_grad()\n",
        "    gen.requires_grad=False\n",
        "    dis.requires_grad=True\n",
        "    loss = lossf(dis(i), ones)\n",
        "    loss.backward()\n",
        "    dl += loss; dn += i.size(0)\n",
        "    loss = lossf(dis(gen(randn())), zeros)\n",
        "    loss.backward()\n",
        "    dl += loss; dn += i.size(0)\n",
        "    d_optim.step()\n",
        "    \n",
        "    # update gen\n",
        "    g_optim.zero_grad()\n",
        "    dis.requires_grad=False\n",
        "    gen.requires_grad=True\n",
        "    loss = lossf(dis(gen(randn())), ones)\n",
        "    loss.backward()\n",
        "    gl += loss; gn += i.size(0)\n",
        "    loss = lossf(dis(gen(randn())), ones)\n",
        "    loss.backward()\n",
        "    gl += loss; gn += i.size(0)\n",
        "    g_optim.step()\n",
        "    \n",
        "  print(f\"dis: {(dl/dn).item():.3f} gen: {(gl/gn).item():.3f}\")\n",
        "  gloss.append((gl/gn).item())\n",
        "  dloss.append((dl/dn).item())\n",
        "\n",
        "print(\"Done\")"
      ],
      "execution_count": null,
      "outputs": [
        {
          "output_type": "stream",
          "text": [
            "#+begin_example\n",
            "--- Epoch 0 13:39:10\n",
            "dis: 0.006 gen: 0.034\n",
            "--- Epoch 1 13:39:25\n",
            "dis: 0.007 gen: 0.026\n",
            "--- Epoch 2 13:39:41\n",
            "dis: 0.007 gen: 0.023\n",
            "--- Epoch 3 13:39:57\n",
            "dis: 0.008 gen: 0.021\n",
            "--- Epoch 4 13:40:13\n",
            "dis: 0.008 gen: 0.022\n",
            "--- Epoch 5 13:40:29\n",
            "dis: 0.008 gen: 0.022\n",
            "--- Epoch 6 13:40:45\n",
            "dis: 0.007 gen: 0.023\n",
            "--- Epoch 7 13:41:01\n",
            "dis: 0.007 gen: 0.023\n",
            "--- Epoch 8 13:41:16\n",
            "dis: 0.007 gen: 0.023\n",
            "--- Epoch 9 13:41:32\n",
            "dis: 0.007 gen: 0.023\n",
            "--- Epoch 10 13:41:48\n",
            "dis: 0.007 gen: 0.023\n",
            "--- Epoch 11 13:42:03\n",
            "dis: 0.007 gen: 0.023\n",
            "--- Epoch 12 13:42:19\n",
            "dis: 0.007 gen: 0.023\n",
            "--- Epoch 13 13:42:35\n",
            "dis: 0.007 gen: 0.024\n",
            "--- Epoch 14 13:42:51\n",
            "dis: 0.007 gen: 0.024\n",
            "--- Epoch 15 13:43:06\n",
            "dis: 0.007 gen: 0.024\n",
            "--- Epoch 16 13:43:22\n",
            "dis: 0.007 gen: 0.025\n",
            "--- Epoch 17 13:43:37\n",
            "dis: 0.007 gen: 0.025\n",
            "--- Epoch 18 13:43:53\n",
            "dis: 0.007 gen: 0.026\n",
            "--- Epoch 19 13:44:09\n",
            "dis: 0.007 gen: 0.026\n",
            "--- Epoch 20 13:44:26\n",
            "dis: 0.006 gen: 0.027\n",
            "--- Epoch 21 13:44:41\n",
            "dis: 0.006 gen: 0.027\n",
            "--- Epoch 22 13:44:57\n",
            "dis: 0.006 gen: 0.028\n",
            "--- Epoch 23 13:45:13\n",
            "dis: 0.006 gen: 0.028\n",
            "--- Epoch 24 13:45:28\n",
            "dis: 0.006 gen: 0.028\n",
            "Done\n",
            "#+end_example\n",
            "<Figure size 1800x1800 with 0 Axes>"
          ],
          "name": "stdout"
        }
      ]
    }
  ]
}